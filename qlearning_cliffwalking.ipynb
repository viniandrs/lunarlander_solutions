{
 "cells": [
  {
   "cell_type": "code",
   "execution_count": 41,
   "metadata": {},
   "outputs": [],
   "source": [
    "import gymnasium as gym\n",
    "import numpy as np\n",
    "import matplotlib.pyplot as plt\n",
    "\n",
    "import utils.plots_cliffwalking as plots\n",
    "\n",
    "from env.cliff_walking import WindyCliffWalking\n",
    "from importlib import reload"
   ]
  },
  {
   "cell_type": "markdown",
   "metadata": {},
   "source": [
    "# Resolvendo o ambiente Cliff Walking com QLearning tabular\n",
    "\n",
    "O [Cliff Walking](https://gymnasium.farama.org/environments/toy_text/cliff_walking/) é um dos mais simples ambientes de aprendizado por reforço (RL), sendo ideal para entender o funcionamento do QLearning tabular, um dos algoritmos mais fundamentais para iniciantes. A ideia do Cliff Walking é simples: o agente deve ser capaz de atravessar um tabuleiro do início ao fim tomando cuidado para não cair em um penhasco. Se o agente cair no penhasco, ele retorna para o início do tabuleiro e leva uma penalidade de recompensa.\n",
    "\n",
    "<img src=\"media/cliff_walking.gif\" width=\"200\">\n",
    "\n",
    "Abaixo seguem algumas informações importantes para a modelagem do ambiente como um Processo de Decisão de Markov (MDP):\n",
    "\n",
    "### Espaço de ações\n",
    "\n",
    "O espaço de ações é discreto e contém os inteiros do intervalo {0, 3}. Uma ação deve indicar a direção de um movimento:\n",
    "* 0: Cima\n",
    "* 1: Direita\n",
    "* 2: Baixo\n",
    "* 3: Esquerda\n",
    "\n",
    "### Espaço de estados\n",
    "\n",
    "O estado representa a posição do jogador no tabuleiro. Logo, o espaço de estados também é discreto e contém os inteiros do intervalo {0, 47}. O valor numérico da posição do agente no tabuleiro pode ser obtido como linha_atual * nlinhas + coluna, sendo que as linhas e colunas começam em 0.\n",
    "\n",
    "### Recompensas\n",
    "\n",
    "A cada movimento do agente uma penalidade de -1 é aplicada, a menos que o jogador caia do penhasco, o que resulta em uma penalidade -100.\n"
   ]
  },
  {
   "cell_type": "code",
   "execution_count": 76,
   "metadata": {},
   "outputs": [],
   "source": [
    "cliff_walking = gym.make('CliffWalking-v0')"
   ]
  },
  {
   "cell_type": "markdown",
   "metadata": {},
   "source": [
    "## Criando a tabela de QValores\n",
    "\n",
    "A tabela de Qvalores recebe como entrada um par (estado, ação) e deve retornar o QValor desse par. Um QValor pode ser interpretado como \"a recompensa acumulada total esperada por executar a ação A no estado S e depois seguir a mesma política até o final do episódio\". Logo, devemos ter uma linha da tabela para cada um dos 48 estados, sendo que cada linha deve ter uma coluna para cada uma das 4 ações. Além disso, os QValores devem possuir um valor inicial preferencialmente diferente de zero.\n",
    "\n",
    "<figure>\n",
    "    <img src=\"media/qtable.png\" alt=\"sample qtable\" width=\"400\">\n",
    "    <figcaption> Exemplo de tabela de Qvalores. Fonte: <a href=\"https://www.datacamp.com/tutorial/introduction-q-learning-beginner-tutorial\"> Datacamp </a> </figcaption>\n",
    "</figure>"
   ]
  },
  {
   "cell_type": "code",
   "execution_count": 43,
   "metadata": {},
   "outputs": [],
   "source": [
    "def new_q_table(n_states, n_actions):\n",
    "    return np.full((n_states, n_actions), 0.1)"
   ]
  },
  {
   "cell_type": "markdown",
   "metadata": {},
   "source": [
    "## Amostrando ações com a política $\\epsilon$-greedy\n",
    "\n",
    "No final do treinamento, espera-se que a melhor ação para cada estado seja aquela cujo QValor é o maior. No entanto, para que o QLearn convirja adequadamente, é necessário que no início do treinamento o agente \"explore\" bem o ambiente. Isto é, que ele visite um grande número de estados mesmo que não sejam necessariamente ótimos. Uma técnica amplamente utilizada para essa finalidade é a política $\\epsilon$-greedy. Ela consiste em forçar o agente a escolher ações aleatoriamente com uma frequência que diminui conforme o treinamento avança."
   ]
  },
  {
   "cell_type": "code",
   "execution_count": 44,
   "metadata": {},
   "outputs": [],
   "source": [
    "def get_action(q_table, state, epsilon):\n",
    "    if np.random.random() < epsilon:\n",
    "        return np.random.randint(0, q_table.shape[1])\n",
    "    return np.argmax(q_table[state])"
   ]
  },
  {
   "cell_type": "markdown",
   "metadata": {},
   "source": [
    "## Atualização dos QValores utilizando a equação de Bellman\n",
    "\n",
    "A cada passo do treinamento, o agente executará uma ação e utilizará a informação retornada pelo ambiente para atualizar os seus QValores e, assim, aprender a tabela ótima. A atualização dos seus QValores é realizada através da equação de Bellman:\n",
    "\n",
    "$$Q_{t+1}(s_t, a_t) = (1-\\alpha) Q_t (s_t, a_t) + \\alpha (R_{t+1} + \\gamma \\max_{a} Q_t (s_{t+1}, a))$$"
   ]
  },
  {
   "cell_type": "code",
   "execution_count": 45,
   "metadata": {},
   "outputs": [],
   "source": [
    "def update_q_table(q_table, state, action, reward, next_state, terminated, alpha, gamma):\n",
    "    if terminated:\n",
    "        q_table[next_state] = np.zeros(q_table.shape[1]) # a recompensa esperada para o estado terminal é 0\n",
    "\n",
    "    q_table[state, action] = (1 - alpha) * q_table[state, action] + alpha * (reward + gamma * np.max(q_table[next_state]))\n",
    "    return q_table"
   ]
  },
  {
   "cell_type": "markdown",
   "metadata": {},
   "source": [
    "## Loop de treinamento\n",
    "\n",
    "No loop de treinamento, juntaremos todas as funções desenvolvidas até o momento. A ideia principal é definir um número máximo de episódios (estágio inicial até o estágio final) para que o agente colete experiências do ambiente e otimize sua tabela de QValores."
   ]
  },
  {
   "cell_type": "code",
   "execution_count": 69,
   "metadata": {},
   "outputs": [],
   "source": [
    "def train(env: gym.Env, \n",
    "          q_table,\n",
    "          n_episodes=5000, # numero maximo de episodios\n",
    "          epsilon=0.99, # probabilidade inicial de escolher uma ação aleatória\n",
    "          epsilon_decay=0.999, # fator de decaimento da probabilidade de escolher uma ação aleatória\n",
    "          alpha=0.75, # taxa de aprendizado\n",
    "          gamma=0.99, # fator de desconto\n",
    "          verbose=False):\n",
    "     \n",
    "    for episode in range(n_episodes):\n",
    "        state, _ = env.reset()\n",
    "        total_reward = 0\n",
    "        step = 0\n",
    "        done = False\n",
    "\n",
    "        if epsilon > 0.001:\n",
    "            epsilon *= epsilon_decay\n",
    "        \n",
    "        while not done and step < 500: # 1000 steps max\n",
    "            action = get_action(q_table, state, epsilon)\n",
    "            next_state, reward, terminated, truncated, _ = env.step(action)\n",
    "            q_table = update_q_table(q_table, state, action, reward, next_state, terminated, alpha, gamma)\n",
    "            state = next_state\n",
    "            total_reward += reward\n",
    "\n",
    "            done = terminated or truncated\n",
    "            step += 1\n",
    "            \n",
    "        if episode % 100 == 0 and verbose:\n",
    "            print(f\"Episode {episode} - Total reward: {total_reward} - epsilon: {epsilon}\")\n",
    "\n",
    "    return q_table"
   ]
  },
  {
   "cell_type": "markdown",
   "metadata": {},
   "source": [
    "## Treinando\n",
    "\n",
    "Está tudo configurado, portanto agora podemos rodar o algoritmo!"
   ]
  },
  {
   "cell_type": "code",
   "execution_count": 59,
   "metadata": {},
   "outputs": [
    {
     "name": "stdout",
     "output_type": "stream",
     "text": [
      "Episode 0 - Total reward: -8024 - epsilon: 0.98901\n",
      "Episode 100 - Total reward: -7331 - epsilon: 0.8948484814169296\n",
      "Episode 200 - Total reward: -7034 - epsilon: 0.8096518788426657\n",
      "Episode 300 - Total reward: -5549 - epsilon: 0.7325666618727043\n",
      "Episode 400 - Total reward: -4460 - epsilon: 0.6628205628997266\n",
      "Episode 500 - Total reward: -1543 - epsilon: 0.5997148402571608\n",
      "Episode 600 - Total reward: -361 - epsilon: 0.5426172779722319\n",
      "Episode 700 - Total reward: -134 - epsilon: 0.4909558519974922\n",
      "Episode 800 - Total reward: -250 - epsilon: 0.4442129994668515\n",
      "Episode 900 - Total reward: -352 - epsilon: 0.40192043356343343\n",
      "Episode 1000 - Total reward: -25 - epsilon: 0.3636544520527319\n",
      "Episode 1100 - Total reward: -903 - epsilon: 0.3290316924802508\n",
      "Episode 1200 - Total reward: -30 - epsilon: 0.2977052915076636\n",
      "Episode 1300 - Total reward: -27 - epsilon: 0.26936140991033175\n",
      "Episode 1400 - Total reward: -22 - epsilon: 0.24371608842234507\n",
      "Episode 1500 - Total reward: -250 - epsilon: 0.22051240292980812\n",
      "Episode 1600 - Total reward: -25 - epsilon: 0.1995178905120644\n",
      "Episode 1700 - Total reward: -22 - epsilon: 0.1805222205440088\n",
      "Episode 1800 - Total reward: -20 - epsilon: 0.16333508752774822\n",
      "Episode 1900 - Total reward: -19 - epsilon: 0.1477843045432369\n",
      "Episode 2000 - Total reward: -20 - epsilon: 0.13371407821738157\n",
      "Episode 2100 - Total reward: -28 - epsilon: 0.1209834479296351\n",
      "Episode 2200 - Total reward: -18 - epsilon: 0.10946487361747416\n",
      "Episode 2300 - Total reward: -24 - epsilon: 0.09904295803388524\n",
      "Episode 2400 - Total reward: -20 - epsilon: 0.08961329065597211\n",
      "Episode 2500 - Total reward: -29 - epsilon: 0.08108140166254191\n",
      "Episode 2600 - Total reward: -19 - epsilon: 0.07336181550124031\n",
      "Episode 2700 - Total reward: -137 - epsilon: 0.06637719456352702\n",
      "Episode 2800 - Total reward: -15 - epsilon: 0.06005756438851805\n",
      "Episode 2900 - Total reward: -19 - epsilon: 0.054339612633507076\n",
      "Episode 3000 - Total reward: -137 - epsilon: 0.04916605478799809\n",
      "Episode 3100 - Total reward: -137 - epsilon: 0.044485060276743045\n",
      "Episode 3200 - Total reward: -18 - epsilon: 0.0402497332022771\n",
      "Episode 3300 - Total reward: -125 - epsilon: 0.03641764252484226\n",
      "Episode 3400 - Total reward: -20 - epsilon: 0.032950396972871554\n",
      "Episode 3500 - Total reward: -23 - epsilon: 0.02981326042533348\n",
      "Episode 3600 - Total reward: -19 - epsilon: 0.026974803912697635\n",
      "Episode 3700 - Total reward: -24 - epsilon: 0.02440659075014097\n",
      "Episode 3800 - Total reward: -16 - epsilon: 0.022082891648545638\n",
      "Episode 3900 - Total reward: -19 - epsilon: 0.019980426949167008\n",
      "Episode 4000 - Total reward: -19 - epsilon: 0.01807813339958545\n",
      "Episode 4100 - Total reward: -129 - epsilon: 0.016356953134418987\n",
      "Episode 4200 - Total reward: -19 - epsilon: 0.01479964274672925\n",
      "Episode 4300 - Total reward: -18 - epsilon: 0.013390600537328996\n",
      "Episode 4400 - Total reward: -23 - epsilon: 0.012115710211311893\n",
      "Episode 4500 - Total reward: -17 - epsilon: 0.010962199455900382\n",
      "Episode 4600 - Total reward: -18 - epsilon: 0.009918511982792833\n",
      "Episode 4700 - Total reward: -23 - epsilon: 0.008974191753084181\n",
      "Episode 4800 - Total reward: -22 - epsilon: 0.008119778224883169\n",
      "Episode 4900 - Total reward: -126 - epsilon: 0.007346711574179178\n"
     ]
    }
   ],
   "source": [
    "q_table = new_q_table(n_states=48, n_actions=4)\n",
    "trained_q_table = train(cliff_walking, q_table, alpha=0.75, verbose=True)"
   ]
  },
  {
   "cell_type": "markdown",
   "metadata": {},
   "source": [
    "## Testando o agente\n",
    "\n",
    "A função abaixo rodará um episódio com o agente já treinado."
   ]
  },
  {
   "cell_type": "code",
   "execution_count": 70,
   "metadata": {},
   "outputs": [],
   "source": [
    "def test(env: gym.Env, \n",
    "          q_table,\n",
    "          n_episodes=1,\n",
    "          verbose=False\n",
    "          ):\n",
    "    \n",
    "    total_rewards = []\n",
    "    for episode in range(n_episodes):\n",
    "        state, _ = env.reset()\n",
    "        total_reward = 0\n",
    "        done = False\n",
    "        \n",
    "        while not done:\n",
    "            action = get_action(q_table, state, 0)\n",
    "            state, reward, terminated, truncated, _ = env.step(action)\n",
    "            total_reward += reward\n",
    "\n",
    "            done = terminated or truncated\n",
    "\n",
    "        if verbose:\n",
    "            print(f\"Episode {episode} - Total reward: {total_reward}\")\n",
    "            \n",
    "        total_rewards.append(total_reward)\n",
    "\n",
    "    env.close()\n",
    "    return np.average(total_reward)\n",
    "\n",
    "test(gym.make('CliffWalking-v0', render_mode=\"human\"), trained_q_table)"
   ]
  },
  {
   "cell_type": "markdown",
   "metadata": {},
   "source": [
    "## Análise de resultados\n",
    "\n",
    "### Visualizando a política\n",
    "\n",
    "A célula abaixo permitirá observar a ação mais provável de ser tomada em cada uma das posições do tabuleiro."
   ]
  },
  {
   "cell_type": "code",
   "execution_count": 63,
   "metadata": {},
   "outputs": [
    {
     "data": {
      "image/png": "[encoded data removed]",
      "text/plain": [
       "<Figure size 640x480 with 1 Axes>"
      ]
     },
     "metadata": {},
     "output_type": "display_data"
    },
    {
     "data": {
      "text/plain": [
       "<Figure size 640x480 with 0 Axes>"
      ]
     },
     "metadata": {},
     "output_type": "display_data"
    }
   ],
   "source": [
    "reload(plots)\n",
    "plots.plot_arrows(trained_q_table)"
   ]
  },
  {
   "cell_type": "markdown",
   "metadata": {},
   "source": [
    "### Visualizando a influência da taxa de aprendizado\n",
    "\n",
    "A célula abaixo criará um gráfico com a recompensa total média de um conjunto de agentes treinados com uma diferente taxa de aprendizado. Como você explicaria os resultados?"
   ]
  },
  {
   "cell_type": "code",
   "execution_count": 77,
   "metadata": {},
   "outputs": [
    {
     "data": {
      "image/png": "[encoded data removed]",
      "text/plain": [
       "<Figure size 640x480 with 1 Axes>"
      ]
     },
     "metadata": {},
     "output_type": "display_data"
    }
   ],
   "source": [
    "# retorno médio esperado em função de alpha\n",
    "\n",
    "def plot_avg_return_x_alpha(n_samples=100, n_alphas=10 ):\n",
    "    avg_returns = []\n",
    "    alphas=np.linspace(0.1, 1, n_alphas)\n",
    " \n",
    "    for alpha in alphas:\n",
    "        q_table = new_q_table(n_states=48, n_actions=4)\n",
    "        trained_q_table = train(cliff_walking, q_table, alpha=alpha)\n",
    "        avg_returns.append(test(cliff_walking, trained_q_table, n_samples))\n",
    "\n",
    "    plt.plot(alphas, avg_returns)\n",
    "    plt.grid()\n",
    "    plt.show()\n",
    "\n",
    "plot_avg_return_x_alpha(n_samples=100, n_alphas=10)"
   ]
  },
  {
   "cell_type": "markdown",
   "metadata": {},
   "source": [
    "## Exercício - ambientes não-determinísticos\n",
    "\n",
    "Agora que já vimos que o agente aprendeu um caminho para o objetivo que minimiza a distância caminhada e não cai no penhasco, está na hora de deixar as coisas um pouco mais difíceis. Utilizaremos agora uma versão modificada do Cliff Walking que adiciona vento aleatório na direção do penhasco. Ou seja, existe uma probabilidade do agente ser deslocado uma casa para baixo de maneira involuntária.\n",
    "\n",
    "Essa alteração será interessante para observarmos a infuência da taxa de aprendizado no treinamento de um modelo robusto a ambientes não-determinísticos."
   ]
  },
  {
   "cell_type": "code",
   "execution_count": null,
   "metadata": {},
   "outputs": [],
   "source": [
    "windy_cliff_walking = WindyCliffWalking(wind=0.5)\n",
    "\n",
    "windy_q_table = new_q_table(n_states=48, n_actions=4)\n",
    "trained_windy_q_table = train(cliff_walking, windy_q_table, alpha=0.75, verbose=True)"
   ]
  },
  {
   "cell_type": "markdown",
   "metadata": {},
   "source": [
    "### Resultados"
   ]
  },
  {
   "cell_type": "code",
   "execution_count": null,
   "metadata": {},
   "outputs": [],
   "source": [
    "windy_cliff_walking.render_mode = 'human'\n",
    "test(windy_cliff_walking, trained_windy_q_table)"
   ]
  },
  {
   "cell_type": "code",
   "execution_count": null,
   "metadata": {},
   "outputs": [],
   "source": [
    "plots.plot_arrows(trained_q_table)"
   ]
  }
 ],
 "metadata": {
  "kernelspec": {
   "display_name": "lunar_lander",
   "language": "python",
   "name": "python3"
  },
  "language_info": {
   "codemirror_mode": {
    "name": "ipython",
    "version": 3
   },
   "file_extension": ".py",
   "mimetype": "text/x-python",
   "name": "python",
   "nbconvert_exporter": "python",
   "pygments_lexer": "ipython3",
   "version": "3.12.2"
  }
 },
 "nbformat": 4,
 "nbformat_minor": 2
}
