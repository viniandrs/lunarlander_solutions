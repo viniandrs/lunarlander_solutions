{
 "cells": [
  {
   "cell_type": "code",
   "execution_count": 41,
   "metadata": {},
   "outputs": [],
   "source": [
    "import gymnasium as gym\n",
    "import numpy as np\n",
    "\n",
    "import utils.plots_cliffwalking as plots\n",
    "\n",
    "from env.cliff_walking import WindyCliffWalking\n",
    "from importlib import reload"
   ]
  },
  {
   "cell_type": "markdown",
   "metadata": {},
   "source": [
    "# Resolvendo o ambiente Cliff Walking com QLearning tabular\n",
    "\n",
    "O [Cliff Walking](https://gymnasium.farama.org/environments/toy_text/cliff_walking/) é um dos mais simples ambientes de aprendizado por reforço (RL), sendo ideal para entender o funcionamento do QLearning tabular, um dos algoritmos mais fundamentais para iniciantes. A ideia do Cliff Walking é simples: o agente deve ser capaz de atravessar um tabuleiro do início ao fim tomando cuidado para não cair em um penhasco. Se o agente cair no penhasco, ele retorna para o início do tabuleiro e leva uma penalidade de recompensa.\n",
    "\n",
    "<img src=\"media/cliff_walking.gif\" width=\"200\">\n",
    "\n",
    "Abaixo seguem algumas informações importantes para a modelagem do ambiente como um Processo de Decisão de Markov (MDP):\n",
    "\n",
    "### Espaço de ações\n",
    "\n",
    "O espaço de ações é discreto e contém os inteiros do intervalo {0, 3}. Uma ação deve indicar a direção de um movimento:\n",
    "* 0: Cima\n",
    "* 1: Direita\n",
    "* 2: Baixo\n",
    "* 3: Esquerda\n",
    "\n",
    "### Espaço de estados\n",
    "\n",
    "O estado representa a posição do jogador no tabuleiro. Logo, o espaço de estados também é discreto e contém os inteiros do intervalo {0, 47}. O valor numérico da posição do agente no tabuleiro pode ser obtido como linha_atual * nlinhas + coluna, sendo que as linhas e colunas começam em 0.\n",
    "\n"
   ]
  },
  {
   "cell_type": "code",
   "execution_count": 58,
   "metadata": {},
   "outputs": [],
   "source": [
    "cliff_walking = WindyCliffWalking(wind=0.3)"
   ]
  },
  {
   "cell_type": "markdown",
   "metadata": {},
   "source": [
    "### Criando a tabela de QValores\n",
    "\n",
    "A tabela de Qvalores recebe como entrada um par (estado, ação) e deve retornar o QValor desse par. Um QValor pode ser interpretado como \"a recompensa acumulada total esperada por executar a ação A no estado S e depois seguir a mesma política até o final do episódio\". Logo, devemos ter uma linha da tabela para cada um dos 48 estados, sendo que cada linha deve ter uma coluna para cada uma das 4 ações. Além disso, os QValores devem possuir um valor inicial preferencialmente diferente de zero.\n",
    "\n",
    "<figure>\n",
    "    <img src=\"media/qtable.png\" alt=\"sample qtable\" width=\"400\">\n",
    "    <figcaption> Exemplo de tabela de Qvalores. Fonte: <a href=\"https://www.datacamp.com/tutorial/introduction-q-learning-beginner-tutorial\"> Datacamp </a> </figcaption>\n",
    "</figure>"
   ]
  },
  {
   "cell_type": "code",
   "execution_count": 43,
   "metadata": {},
   "outputs": [],
   "source": [
    "def new_q_table(n_states, n_actions):\n",
    "    return np.full((n_states, n_actions), 0.1)"
   ]
  },
  {
   "cell_type": "markdown",
   "metadata": {},
   "source": [
    "### Amostrando ações com a política $\\epsilon$-greedy\n",
    "\n",
    "No final do treinamento, espera-se que a melhor ação para cada estado seja aquela cujo QValor é o maior. No entanto, para que o QLearn convirja adequadamente, é necessário que no início do treinamento o agente \"explore\" bem o ambiente. Isto é, que ele visite um grande número de estados mesmo que não sejam necessariamente ótimos. Uma técnica amplamente utilizada para essa finalidade é a política $\\epsilon$-greedy. Ela consiste em forçar o agente a escolher ações aleatoriamente com uma frequência que diminui conforme o treinamento avança."
   ]
  },
  {
   "cell_type": "code",
   "execution_count": 44,
   "metadata": {},
   "outputs": [],
   "source": [
    "def get_action(q_table, state, epsilon):\n",
    "    if np.random.random() < epsilon:\n",
    "        return np.random.randint(0, q_table.shape[1])\n",
    "    return np.argmax(q_table[state])"
   ]
  },
  {
   "cell_type": "markdown",
   "metadata": {},
   "source": [
    "### Atualização dos QValores utilizando a equação de Bellman\n",
    "\n",
    "A cada passo do treinamento, o agente executará uma ação e utilizará a informação retornada pelo ambiente para atualizar os seus QValores e, assim, aprender a tabela ótima. A atualização dos seus QValores é realizada através da equação de Bellman:\n",
    "\n",
    "$$Q_{t+1}(s_t, a_t) = (\\alpha - 1) Q_t (s_t, a_t) + \\alpha (R_{t+1} + \\gamma \\max_{a} Q_t (s_{t+1}, a))$$"
   ]
  },
  {
   "cell_type": "code",
   "execution_count": 45,
   "metadata": {},
   "outputs": [],
   "source": [
    "def update_q_table(q_table, state, action, reward, next_state, terminated, alpha, gamma):\n",
    "    if terminated:\n",
    "        q_table[next_state] = np.zeros(q_table.shape[1]) # a recompensa esperada para o estado terminal é 0\n",
    "\n",
    "    q_table[state, action] = (1 - alpha) * q_table[state, action] + alpha * (reward + gamma * np.max(q_table[next_state]))\n",
    "    return q_table"
   ]
  },
  {
   "cell_type": "markdown",
   "metadata": {},
   "source": [
    "### Loop de treinamento\n",
    "\n",
    "No loop de treinamento, juntaremos todas as funções desenvolvidas até o momento. A ideia principal é definir um número máximo de episódios (estágio inicial até o estágio final) para que o agente colete experiências do ambiente e otimize sua tabela de QValores."
   ]
  },
  {
   "cell_type": "code",
   "execution_count": 46,
   "metadata": {},
   "outputs": [],
   "source": [
    "def train(env: gym.Env, \n",
    "          q_table,\n",
    "          n_episodes=5000, \n",
    "          epsilon=0.99, \n",
    "          epsilon_decay=0.999, \n",
    "          alpha=0.75, \n",
    "          gamma=0.99):\n",
    "     \n",
    "    for episode in range(n_episodes):\n",
    "        state, _ = env.reset()\n",
    "        total_reward = 0\n",
    "        step = 0\n",
    "        done = False\n",
    "\n",
    "        if epsilon > 0.001:\n",
    "            epsilon *= epsilon_decay\n",
    "        \n",
    "        while not done and step < 500: # 1000 steps max\n",
    "            action = get_action(q_table, state, epsilon)\n",
    "            next_state, reward, terminated, truncated, _ = env.step(action)\n",
    "            q_table = update_q_table(q_table, state, action, reward, next_state, terminated, alpha, gamma)\n",
    "            state = next_state\n",
    "            total_reward += reward\n",
    "\n",
    "            done = terminated or truncated\n",
    "            step += 1\n",
    "            \n",
    "        if episode % 100 == 0:\n",
    "            print(f\"Episode {episode} - Total reward: {total_reward} - epsilon: {epsilon}\")\n",
    "\n",
    "    return q_table"
   ]
  },
  {
   "cell_type": "markdown",
   "metadata": {},
   "source": [
    "### Treinando"
   ]
  },
  {
   "cell_type": "code",
   "execution_count": 59,
   "metadata": {},
   "outputs": [
    {
     "name": "stdout",
     "output_type": "stream",
     "text": [
      "Episode 0 - Total reward: -8024 - epsilon: 0.98901\n",
      "Episode 100 - Total reward: -7331 - epsilon: 0.8948484814169296\n",
      "Episode 200 - Total reward: -7034 - epsilon: 0.8096518788426657\n",
      "Episode 300 - Total reward: -5549 - epsilon: 0.7325666618727043\n",
      "Episode 400 - Total reward: -4460 - epsilon: 0.6628205628997266\n",
      "Episode 500 - Total reward: -1543 - epsilon: 0.5997148402571608\n",
      "Episode 600 - Total reward: -361 - epsilon: 0.5426172779722319\n",
      "Episode 700 - Total reward: -134 - epsilon: 0.4909558519974922\n",
      "Episode 800 - Total reward: -250 - epsilon: 0.4442129994668515\n",
      "Episode 900 - Total reward: -352 - epsilon: 0.40192043356343343\n",
      "Episode 1000 - Total reward: -25 - epsilon: 0.3636544520527319\n",
      "Episode 1100 - Total reward: -903 - epsilon: 0.3290316924802508\n",
      "Episode 1200 - Total reward: -30 - epsilon: 0.2977052915076636\n",
      "Episode 1300 - Total reward: -27 - epsilon: 0.26936140991033175\n",
      "Episode 1400 - Total reward: -22 - epsilon: 0.24371608842234507\n",
      "Episode 1500 - Total reward: -250 - epsilon: 0.22051240292980812\n",
      "Episode 1600 - Total reward: -25 - epsilon: 0.1995178905120644\n",
      "Episode 1700 - Total reward: -22 - epsilon: 0.1805222205440088\n",
      "Episode 1800 - Total reward: -20 - epsilon: 0.16333508752774822\n",
      "Episode 1900 - Total reward: -19 - epsilon: 0.1477843045432369\n",
      "Episode 2000 - Total reward: -20 - epsilon: 0.13371407821738157\n",
      "Episode 2100 - Total reward: -28 - epsilon: 0.1209834479296351\n",
      "Episode 2200 - Total reward: -18 - epsilon: 0.10946487361747416\n",
      "Episode 2300 - Total reward: -24 - epsilon: 0.09904295803388524\n",
      "Episode 2400 - Total reward: -20 - epsilon: 0.08961329065597211\n",
      "Episode 2500 - Total reward: -29 - epsilon: 0.08108140166254191\n",
      "Episode 2600 - Total reward: -19 - epsilon: 0.07336181550124031\n",
      "Episode 2700 - Total reward: -137 - epsilon: 0.06637719456352702\n",
      "Episode 2800 - Total reward: -15 - epsilon: 0.06005756438851805\n",
      "Episode 2900 - Total reward: -19 - epsilon: 0.054339612633507076\n",
      "Episode 3000 - Total reward: -137 - epsilon: 0.04916605478799809\n",
      "Episode 3100 - Total reward: -137 - epsilon: 0.044485060276743045\n",
      "Episode 3200 - Total reward: -18 - epsilon: 0.0402497332022771\n",
      "Episode 3300 - Total reward: -125 - epsilon: 0.03641764252484226\n",
      "Episode 3400 - Total reward: -20 - epsilon: 0.032950396972871554\n",
      "Episode 3500 - Total reward: -23 - epsilon: 0.02981326042533348\n",
      "Episode 3600 - Total reward: -19 - epsilon: 0.026974803912697635\n",
      "Episode 3700 - Total reward: -24 - epsilon: 0.02440659075014097\n",
      "Episode 3800 - Total reward: -16 - epsilon: 0.022082891648545638\n",
      "Episode 3900 - Total reward: -19 - epsilon: 0.019980426949167008\n",
      "Episode 4000 - Total reward: -19 - epsilon: 0.01807813339958545\n",
      "Episode 4100 - Total reward: -129 - epsilon: 0.016356953134418987\n",
      "Episode 4200 - Total reward: -19 - epsilon: 0.01479964274672925\n",
      "Episode 4300 - Total reward: -18 - epsilon: 0.013390600537328996\n",
      "Episode 4400 - Total reward: -23 - epsilon: 0.012115710211311893\n",
      "Episode 4500 - Total reward: -17 - epsilon: 0.010962199455900382\n",
      "Episode 4600 - Total reward: -18 - epsilon: 0.009918511982792833\n",
      "Episode 4700 - Total reward: -23 - epsilon: 0.008974191753084181\n",
      "Episode 4800 - Total reward: -22 - epsilon: 0.008119778224883169\n",
      "Episode 4900 - Total reward: -126 - epsilon: 0.007346711574179178\n"
     ]
    }
   ],
   "source": [
    "q_table = new_q_table(n_states=48, n_actions=4)\n",
    "trained_q_table = train(cliff_walking, q_table, alpha=0.75)"
   ]
  },
  {
   "cell_type": "markdown",
   "metadata": {},
   "source": [
    "### Testando o agente"
   ]
  },
  {
   "cell_type": "code",
   "execution_count": 48,
   "metadata": {},
   "outputs": [],
   "source": [
    "def test(render_env: gym.Env, \n",
    "          q_table,\n",
    "          n_episodes=1\n",
    "          ):\n",
    "     \n",
    "    for episode in range(n_episodes):\n",
    "        state, _ = render_env.reset()\n",
    "        total_reward = 0\n",
    "        done = False\n",
    "        \n",
    "        while not done:\n",
    "            action = get_action(q_table, state, 0)\n",
    "            state, reward, terminated, truncated, _ = render_env.step(action)\n",
    "            total_reward += reward\n",
    "\n",
    "            done = terminated or truncated\n",
    "\n",
    "        print(f\"Episode {episode} - Total reward: {total_reward}\")\n",
    "\n",
    "    render_env.close()\n",
    "\n",
    "#test(WindyCliffWalking(0.3, render_mode=\"human\"), trained_q_table) # descomente essa rede para ver a execução do agente treinado"
   ]
  },
  {
   "cell_type": "markdown",
   "metadata": {},
   "source": [
    "### Análise de resultados"
   ]
  },
  {
   "cell_type": "code",
   "execution_count": 60,
   "metadata": {},
   "outputs": [
    {
     "data": {
      "text/plain": [
       "array([[-1.59045442e+01, -1.34712881e+01, -1.60684834e+01,\n",
       "        -1.59666349e+01],\n",
       "       [-1.44324437e+01, -1.24479695e+01, -1.53315272e+01,\n",
       "        -1.47317490e+01],\n",
       "       [-1.29644136e+01, -1.13085774e+01, -1.29866790e+01,\n",
       "        -1.38974393e+01],\n",
       "       [-1.12464036e+01, -1.01176622e+01, -1.25224272e+01,\n",
       "        -1.23425523e+01],\n",
       "       [-1.04678941e+01, -9.07828768e+00, -1.14848399e+01,\n",
       "        -1.08191560e+01],\n",
       "       [-9.48515288e+00, -8.32456126e+00, -1.06662261e+01,\n",
       "        -9.84880505e+00],\n",
       "       [-7.66892854e+00, -6.40704660e+00, -9.89961513e+00,\n",
       "        -8.57565739e+00],\n",
       "       [-7.52305762e+00, -5.27576752e+00, -6.99638804e+00,\n",
       "        -7.61663051e+00],\n",
       "       [-5.91365458e+00, -4.67437719e+00, -6.27809304e+00,\n",
       "        -6.98671937e+00],\n",
       "       [-4.84111984e+00, -3.30375107e+00, -4.89036168e+00,\n",
       "        -5.89318959e+00],\n",
       "       [-4.29967689e+00, -3.07124535e+00, -3.92367938e+00,\n",
       "        -4.80803240e+00],\n",
       "       [-3.18817901e+00, -3.09901555e+00, -2.73978224e+00,\n",
       "        -4.54305673e+00],\n",
       "       [-1.61106079e+01, -1.34440611e+01, -1.67048867e+01,\n",
       "        -1.61121165e+01],\n",
       "       [-1.48005020e+01, -1.21954881e+01, -9.57191127e+01,\n",
       "        -1.51772414e+01],\n",
       "       [-1.36208785e+01, -1.12907378e+01, -1.87372353e+01,\n",
       "        -1.42911773e+01],\n",
       "       [-1.28308079e+01, -1.09225548e+01, -1.38599833e+01,\n",
       "        -1.39397139e+01],\n",
       "       [-1.16675981e+01, -1.07033426e+01, -1.09150962e+02,\n",
       "        -1.23185733e+01],\n",
       "       [-9.84307792e+00, -8.98648308e+00, -9.01336385e+01,\n",
       "        -1.08090104e+01],\n",
       "       [-9.06709545e+00, -7.21562236e+00, -2.87501716e+01,\n",
       "        -9.95013351e+00],\n",
       "       [-7.44323147e+00, -5.86189530e+00, -1.31655662e+01,\n",
       "        -7.71157653e+00],\n",
       "       [-6.18869128e+00, -4.88548896e+00, -9.02904343e+01,\n",
       "        -7.35465068e+00],\n",
       "       [-4.78292223e+00, -3.93679387e+00, -9.95677200e+00,\n",
       "        -6.56325106e+00],\n",
       "       [-4.02445835e+00, -2.96990070e+00, -2.40620944e+01,\n",
       "        -4.19761651e+00],\n",
       "       [-3.12055832e+00, -2.74757277e+00, -1.98999906e+00,\n",
       "        -2.95533169e+00],\n",
       "       [-1.46888913e+01, -3.44487533e+01, -1.70970472e+01,\n",
       "        -1.75428312e+01],\n",
       "       [-1.37388409e+01, -3.73012453e+01, -1.15495924e+02,\n",
       "        -1.76880553e+01],\n",
       "       [-1.30819756e+01, -9.59195526e+01, -9.32895104e+01,\n",
       "        -3.59824435e+01],\n",
       "       [-1.16713907e+01, -1.15827843e+02, -4.17564536e+01,\n",
       "        -3.27148425e+01],\n",
       "       [-1.05355000e+01, -9.12926752e+01, -1.15674739e+02,\n",
       "        -3.22112269e+01],\n",
       "       [-1.04912071e+01, -9.02853027e+01, -9.60310313e+01,\n",
       "        -1.10117654e+02],\n",
       "       [-8.04848687e+00, -1.09406184e+02, -4.20885952e+01,\n",
       "        -3.49312311e+01],\n",
       "       [-7.58236399e+00, -1.16140476e+02, -1.10792441e+02,\n",
       "        -1.04813116e+01],\n",
       "       [-5.39235236e+00, -1.15650757e+01, -1.11226826e+02,\n",
       "        -1.49060593e+01],\n",
       "       [-4.60748170e+00, -8.76580228e+01, -4.16091160e+01,\n",
       "        -1.15363440e+01],\n",
       "       [-3.23507084e+00, -1.92889635e+00, -1.14965612e+02,\n",
       "        -5.08237472e+00],\n",
       "       [-2.21914298e+00, -1.93974149e+00, -1.00000000e+00,\n",
       "        -2.41625834e+01],\n",
       "       [-1.55968964e+01, -1.14537345e+02, -1.90673594e+01,\n",
       "        -1.86587164e+01],\n",
       "       [ 1.00000000e-01,  1.00000000e-01,  1.00000000e-01,\n",
       "         1.00000000e-01],\n",
       "       [ 1.00000000e-01,  1.00000000e-01,  1.00000000e-01,\n",
       "         1.00000000e-01],\n",
       "       [ 1.00000000e-01,  1.00000000e-01,  1.00000000e-01,\n",
       "         1.00000000e-01],\n",
       "       [ 1.00000000e-01,  1.00000000e-01,  1.00000000e-01,\n",
       "         1.00000000e-01],\n",
       "       [ 1.00000000e-01,  1.00000000e-01,  1.00000000e-01,\n",
       "         1.00000000e-01],\n",
       "       [ 1.00000000e-01,  1.00000000e-01,  1.00000000e-01,\n",
       "         1.00000000e-01],\n",
       "       [ 1.00000000e-01,  1.00000000e-01,  1.00000000e-01,\n",
       "         1.00000000e-01],\n",
       "       [ 1.00000000e-01,  1.00000000e-01,  1.00000000e-01,\n",
       "         1.00000000e-01],\n",
       "       [ 1.00000000e-01,  1.00000000e-01,  1.00000000e-01,\n",
       "         1.00000000e-01],\n",
       "       [ 1.00000000e-01,  1.00000000e-01,  1.00000000e-01,\n",
       "         1.00000000e-01],\n",
       "       [ 0.00000000e+00,  0.00000000e+00,  0.00000000e+00,\n",
       "         0.00000000e+00]])"
      ]
     },
     "execution_count": 60,
     "metadata": {},
     "output_type": "execute_result"
    }
   ],
   "source": [
    "q_table"
   ]
  },
  {
   "cell_type": "code",
   "execution_count": 61,
   "metadata": {},
   "outputs": [
    {
     "data": {
      "image/png": "[encoded data removed]",
      "text/plain": [
       "<Figure size 640x480 with 1 Axes>"
      ]
     },
     "metadata": {},
     "output_type": "display_data"
    },
    {
     "data": {
      "text/plain": [
       "<Figure size 640x480 with 0 Axes>"
      ]
     },
     "metadata": {},
     "output_type": "display_data"
    }
   ],
   "source": [
    "# arrow plot\n",
    "reload(plots)\n",
    "plots.plot_arrows(trained_q_table)"
   ]
  },
  {
   "cell_type": "code",
   "execution_count": null,
   "metadata": {},
   "outputs": [],
   "source": [
    "# retorno médio esperado em função de alpha"
   ]
  },
  {
   "cell_type": "markdown",
   "metadata": {},
   "source": [
    "### Exercício - estocasticidade"
   ]
  },
  {
   "cell_type": "code",
   "execution_count": null,
   "metadata": {},
   "outputs": [],
   "source": []
  }
 ],
 "metadata": {
  "kernelspec": {
   "display_name": "lunar_lander",
   "language": "python",
   "name": "python3"
  },
  "language_info": {
   "codemirror_mode": {
    "name": "ipython",
    "version": 3
   },
   "file_extension": ".py",
   "mimetype": "text/x-python",
   "name": "python",
   "nbconvert_exporter": "python",
   "pygments_lexer": "ipython3",
   "version": "3.12.2"
  }
 },
 "nbformat": 4,
 "nbformat_minor": 2
}
