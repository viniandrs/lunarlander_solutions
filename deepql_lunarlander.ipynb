{
 "cells": [
  {
   "cell_type": "code",
   "execution_count": 7,
   "metadata": {},
   "outputs": [],
   "source": [
    "import gymnasium as gym\n",
    "import matplotlib.pyplot as plt\n",
    "from IPython.display import clear_output\n",
    "\n",
    "import torch\n",
    "\n",
    "from importlib import reload\n",
    "from copy import deepcopy\n",
    "from typing import List\n",
    "\n",
    "import utils.plots_cliffwalking as plots\n",
    "from env.cliff_walking import WindyCliffWalking\n"
   ]
  },
  {
   "cell_type": "markdown",
   "metadata": {},
   "source": [
    "# Resolvendo o ambiente Lunar Lander com Deep Q-Learning\n",
    "\n",
    "O [Cliff Walking](https://gymnasium.farama.org/environments/box2d/lunar_lander/) é consideravelmente mais complexo que o Cliff Walking, mas nos permitirá utilizar mais o potencial da rede neural do Deep Q-Learning. Nesse ambiente, o objetivo é pousar uma nave espacial na Lua, tendo como ações possíveis o controle de três motores e um vetor de estados com informações sobre a posição, velocidade, rotação e se as pernas da nave estão em contato com o chão. \n",
    "\n",
    "<img src=\"media/lunar_lander.gif\" width=\"200\">\n",
    "\n",
    "Abaixo seguem algumas informações importantes para a modelagem do ambiente como um Processo de Decisão de Markov (MDP):\n",
    "\n",
    "### Espaço de ações\n",
    "\n",
    "O espaço de ações é discreto e contém os inteiros do intervalo {0, 3}. As ações controlam a nave a partir de seus motores:\n",
    "* 0: Não fazer nada\n",
    "* 1: Ligar motor da esquerda\n",
    "* 2: Ligar motor principal\n",
    "* 3: Ligar motor da direita\n",
    "\n",
    "### Espaço de estados\n",
    "\n",
    "O vetor de estados possui oito elementos: posição (x, y) da nave, velocidade linear (x, y), ângulo, velocidade angular e dois valores booleanos que indicam se as pernas da nave estão ou não em contato com o chão. \n",
    "\n",
    "### Recompensas\n",
    "\n",
    "O agente recebe uma recompensa a cada passo. A recompensa de cada passo:\n",
    "\n",
    "- é aumentada/diminuída dependendo do quão perto/longe a nave está da plataforma de pouso.\n",
    "\n",
    "- é aumentada/diminuída dependendo do quão devagar/rápido a nave está se movendo.\n",
    "\n",
    "- é diminuída o quanto mais a nave estiver rotacionada.\n",
    "\n",
    "- é aumentada em 10 pontos para cada perna em contato com o chão.\n",
    "\n",
    "- é diminuída em 0.03 pontos a cada frame em que um motor lateral estiver ativo.\n",
    "\n",
    "- é diminuída em 0.3 pontos a cada frame que o motor principal está ativo.\n",
    "\n",
    "Além disso, o episódio recebe uma recompensa final de -100 ou +100 caso a nave colida ou pouse seguramente, respectivamente. \n",
    "\n"
   ]
  },
  {
   "cell_type": "markdown",
   "metadata": {},
   "source": [
    "## Explorando o espaço de estados\n",
    "\n",
    "Por se tratarem de grandezas distintas, a faixa de valores para cada elemento do vetor de estados é diferente, o que pode levar a instabilidades no treinamento. Esse problema pode ser mitigado através da normalização do vetor de estados. No nosso caso, vamos fazer uma normalização minmax. "
   ]
  },
  {
   "cell_type": "code",
   "execution_count": 8,
   "metadata": {},
   "outputs": [
    {
     "name": "stdout",
     "output_type": "stream",
     "text": [
      "features range: [ 3.         3.        10.        10.         6.2831855 10.\n",
      "  1.         1.       ]\n"
     ]
    }
   ],
   "source": [
    "lunar_lander = gym.make(\"LunarLander-v2\")\n",
    "\n",
    "low = lunar_lander.observation_space.low\n",
    "high = lunar_lander.observation_space.high\n",
    "\n",
    "print(f'features range: {high-low}')\n",
    "\n",
    "# defining low and high as constants tensors\n",
    "LOW = torch.tensor(low).float()\n",
    "HIGH = torch.tensor(high).float()\n",
    "\n",
    "def normalize_state(state) -> torch.Tensor:\n",
    "    return torch.div((state - LOW),  (HIGH - LOW)).float()"
   ]
  },
  {
   "cell_type": "markdown",
   "metadata": {},
   "source": [
    "## Criando o modelo\n",
    "\n",
    "No Deep Q-Learning, os Q-valores de cada ação associados a um estado são calculados através de uma rede neural. Ou seja, a rede neural recebe como entrada um vetor de estados e deve retornar o vetor de Q-valores onde cada elemento representa o Q-valor da ação i. Um Q-valor pode ser interpretado como \"a recompensa acumulada total esperada por executar a ação A no estado S e depois seguir a mesma política até o final do episódio\".\n",
    "\n",
    "Por se tratar de um problema relativamente simples, o modelo para solucionar o CliffWalking pode ser uma rede MLP simples com uma única camada oculta. Além disso, note que a predição dos Q-valores é uma tarefa de regressão, portanto não há necessidade de softmax no final da rede. "
   ]
  },
  {
   "cell_type": "code",
   "execution_count": 9,
   "metadata": {},
   "outputs": [],
   "source": [
    "class Qnet(torch.nn.Module):\n",
    "    def __init__(self, layer_sizes: List[int] = [64, 64]):\n",
    "        super().__init__()\n",
    "\n",
    "        n_actions = 4\n",
    "\n",
    "        layers = []\n",
    "        input_size = 8 # entrada: [x, y, v_x, v_y, theta, omega, left_leg, right_leg]\n",
    "        for n_neurons in layer_sizes:\n",
    "            layers.append(torch.nn.Linear(input_size, n_neurons))\n",
    "            layers.append(torch.nn.ReLU())\n",
    "            input_size = n_neurons\n",
    "        layers.append(torch.nn.Linear(input_size, n_actions))\n",
    "        self.model = torch.nn.Sequential(*layers)\n",
    "\n",
    "    def initialize(self):\n",
    "        for layer in self.model:\n",
    "            if isinstance(layer, torch.nn.Linear):\n",
    "                torch.nn.init.xavier_uniform_(layer.weight)\n",
    "                layer.bias.data.fill_(0.01)\n",
    "\n",
    "    def forward(self, x: int):\n",
    "        x = normalize_state(x)\n",
    "        x = self.model(x)\n",
    "        return x"
   ]
  },
  {
   "cell_type": "markdown",
   "metadata": {},
   "source": [
    "## Amostrando ações com a política $\\epsilon$-greedy\n",
    "\n",
    "No final do treinamento, espera-se que a melhor ação para cada estado seja aquela cujo Q-Valor é o maior. No entanto, para que o Q-Learning convirja adequadamente, é necessário que no início do treinamento o agente \"explore\" bem o ambiente. Isto é, que o agente visite um grande número de estados mesmo que não sejam necessariamente ótimos. Uma técnica amplamente utilizada para essa finalidade é a política $\\epsilon$-greedy. Ela consiste em forçar o agente a escolher ações aleatoriamente com uma frequência que diminui conforme o treinamento avança."
   ]
  },
  {
   "cell_type": "code",
   "execution_count": 10,
   "metadata": {},
   "outputs": [],
   "source": [
    "def get_action(model, state, epsilon, random=True, n_actions=4):\n",
    "    if torch.rand(1) < epsilon and random:\n",
    "        return torch.randint(n_actions, (1,)).item()\n",
    "    qvals = model(state)\n",
    "    return torch.argmax(qvals).item()"
   ]
  },
  {
   "cell_type": "markdown",
   "metadata": {},
   "source": [
    "## Treinamento da rede neural \n",
    "\n",
    "A cada passo do treinamento, o agente executará uma ação e utilizará a informação retornada pelo ambiente para calcular uma loss e atualizar seus pesos de forma a minimizá-la. A loss que será utilizada é o erro quadrático médio entre o Q-valor escolhido e o maior Q-valor do próximo estado calculado utilizando a rede com os pesos anteriores à ultima atualização:\n",
    "\n",
    "$$L_i(\\theta_i)=\\mathbb{E}[(y_i - Q(s,a;\\theta_i))^2]$$\n",
    "$$y_i=\\mathbb{E}[R(s')+\\gamma\\max_A Q(s',A;\\theta_{i-1})]$$\n",
    "\n",
    "Note que, portanto, serão necessárias duas redes neurais com a mesma arquitetura, mas uma terá os pesos defasados em uma iteração com relação à outra."
   ]
  },
  {
   "cell_type": "code",
   "execution_count": 11,
   "metadata": {},
   "outputs": [],
   "source": [
    "def update_q_net(model: torch.nn.Module, \n",
    "                 model_target: torch.nn.Module,\n",
    "                 optimizer: torch.optim.Optimizer, \n",
    "                 state, action, reward, next_state, terminated, gamma):\n",
    "    optimizer.zero_grad()\n",
    "    prediction = model(state)[action]\n",
    "\n",
    "    # se o estado é terminal, o valor é a recompensa\n",
    "    with torch.no_grad():\n",
    "        target = reward + gamma * torch.max(model_target(next_state)) if not terminated else torch.tensor(reward, dtype=torch.float32) \n",
    "    \n",
    "    loss = torch.nn.functional.mse_loss(prediction, target)\n",
    "    loss.backward()\n",
    "\n",
    "    # atualizando os pesos da rede defasada\n",
    "    model_target.load_state_dict(model.state_dict())\n",
    "\n",
    "    # atualizando os pesos da rede\n",
    "    optimizer.step()\n",
    "\n",
    "    return model, model_target"
   ]
  },
  {
   "cell_type": "markdown",
   "metadata": {},
   "source": [
    "## Loop de treinamento\n",
    "\n",
    "No loop de treinamento, juntaremos todas as funções desenvolvidas até o momento. A ideia principal é definir um número máximo de episódios (estágio inicial até o estágio final) para que o agente colete experiências do ambiente e otimize sua tabela de QValores."
   ]
  },
  {
   "cell_type": "code",
   "execution_count": 12,
   "metadata": {},
   "outputs": [],
   "source": [
    "def train(env: gym.Env, \n",
    "          model,\n",
    "          n_episodes=5000, # numero maximo de episodios\n",
    "          epsilon=0.9, # probabilidade inicial de escolher uma ação aleatória\n",
    "          epsilon_decay=0.999, # fator de decaimento da probabilidade de escolher uma ação aleatória\n",
    "          learning_rate=0.0001, # taxa de aprendizado\n",
    "          gamma=0.99, # fator de desconto\n",
    "          verbose=False):\n",
    "    \n",
    "    model_target = deepcopy(model)\n",
    "\n",
    "    model.initialize()\n",
    "    model_target.initialize()\n",
    "\n",
    "    optimizer = torch.optim.Adam(model.parameters(), lr=learning_rate)\n",
    "    total_rewards = []\n",
    "    avg_rewards = []\n",
    "\n",
    "    for episode in range(n_episodes):\n",
    "        state, _ = env.reset()\n",
    "        total_reward = 0\n",
    "        step = 0\n",
    "        done = False\n",
    "\n",
    "        if epsilon > 0.001:\n",
    "            epsilon *= epsilon_decay\n",
    "        \n",
    "        while not done and step < 500: # 1000 steps max\n",
    "            action = get_action(model, state, epsilon)\n",
    "            next_state, reward, terminated, truncated, _ = env.step(action)\n",
    "            model, model_target = update_q_net(model, model_target, optimizer, state, action, reward, next_state, terminated, gamma)\n",
    "            state = next_state\n",
    "            total_reward += reward\n",
    "\n",
    "            done = terminated or truncated\n",
    "            step += 1\n",
    "        \n",
    "        total_rewards.append(total_reward)\n",
    "        avg_reward = sum(total_rewards[-50:]) / len(total_rewards[-50:])\n",
    "        if episode % 50:\n",
    "            avg_rewards.append(avg_reward)\n",
    "        if episode % 100 == 0 and verbose:\n",
    "            clear_output(wait=True)\n",
    "            debug_model.load_state_dict(model.state_dict())\n",
    "            print(f\"Episode {episode} - Average total reward: {avg_reward} - epsilon: {epsilon}\")\n",
    "            plt.plot(avg_rewards)\n",
    "            plt.show()\n",
    "\n",
    "    return model"
   ]
  },
  {
   "cell_type": "markdown",
   "metadata": {},
   "source": [
    "## Treinando\n",
    "\n",
    "Está tudo configurado, portanto agora podemos rodar o algoritmo!"
   ]
  },
  {
   "cell_type": "code",
   "execution_count": 13,
   "metadata": {},
   "outputs": [
    {
     "ename": "TypeError",
     "evalue": "div(): argument 'input' (position 1) must be Tensor, not numpy.ndarray",
     "output_type": "error",
     "traceback": [
      "\u001b[0;31m---------------------------------------------------------------------------\u001b[0m",
      "\u001b[0;31mTypeError\u001b[0m                                 Traceback (most recent call last)",
      "Cell \u001b[0;32mIn[13], line 4\u001b[0m\n\u001b[1;32m      2\u001b[0m q_net \u001b[38;5;241m=\u001b[39m Qnet(layer_sizes\u001b[38;5;241m=\u001b[39m[\u001b[38;5;241m128\u001b[39m, \u001b[38;5;241m128\u001b[39m])\n\u001b[1;32m      3\u001b[0m debug_model \u001b[38;5;241m=\u001b[39m deepcopy(q_net)\n\u001b[0;32m----> 4\u001b[0m trained_q_net \u001b[38;5;241m=\u001b[39m \u001b[43mtrain\u001b[49m\u001b[43m(\u001b[49m\u001b[43mlunar_lander\u001b[49m\u001b[43m,\u001b[49m\u001b[43m \u001b[49m\u001b[43mq_net\u001b[49m\u001b[43m,\u001b[49m\u001b[43m \u001b[49m\u001b[43mn_episodes\u001b[49m\u001b[38;5;241;43m=\u001b[39;49m\u001b[38;5;241;43m5000\u001b[39;49m\u001b[43m,\u001b[49m\u001b[43m \u001b[49m\u001b[43mlearning_rate\u001b[49m\u001b[38;5;241;43m=\u001b[39;49m\u001b[38;5;241;43m1e-5\u001b[39;49m\u001b[43m,\u001b[49m\u001b[43m \u001b[49m\u001b[43mverbose\u001b[49m\u001b[38;5;241;43m=\u001b[39;49m\u001b[38;5;28;43;01mTrue\u001b[39;49;00m\u001b[43m)\u001b[49m\n",
      "Cell \u001b[0;32mIn[12], line 29\u001b[0m, in \u001b[0;36mtrain\u001b[0;34m(env, model, n_episodes, epsilon, epsilon_decay, learning_rate, gamma, verbose)\u001b[0m\n\u001b[1;32m     26\u001b[0m     epsilon \u001b[38;5;241m*\u001b[39m\u001b[38;5;241m=\u001b[39m epsilon_decay\n\u001b[1;32m     28\u001b[0m \u001b[38;5;28;01mwhile\u001b[39;00m \u001b[38;5;129;01mnot\u001b[39;00m done \u001b[38;5;129;01mand\u001b[39;00m step \u001b[38;5;241m<\u001b[39m \u001b[38;5;241m500\u001b[39m: \u001b[38;5;66;03m# 1000 steps max\u001b[39;00m\n\u001b[0;32m---> 29\u001b[0m     action \u001b[38;5;241m=\u001b[39m \u001b[43mget_action\u001b[49m\u001b[43m(\u001b[49m\u001b[43mmodel\u001b[49m\u001b[43m,\u001b[49m\u001b[43m \u001b[49m\u001b[43mstate\u001b[49m\u001b[43m,\u001b[49m\u001b[43m \u001b[49m\u001b[43mepsilon\u001b[49m\u001b[43m)\u001b[49m\n\u001b[1;32m     30\u001b[0m     next_state, reward, terminated, truncated, _ \u001b[38;5;241m=\u001b[39m env\u001b[38;5;241m.\u001b[39mstep(action)\n\u001b[1;32m     31\u001b[0m     model, model_target \u001b[38;5;241m=\u001b[39m update_q_net(model, model_target, optimizer, state, action, reward, next_state, terminated, gamma)\n",
      "Cell \u001b[0;32mIn[10], line 4\u001b[0m, in \u001b[0;36mget_action\u001b[0;34m(model, state, epsilon, random, n_actions)\u001b[0m\n\u001b[1;32m      2\u001b[0m \u001b[38;5;28;01mif\u001b[39;00m torch\u001b[38;5;241m.\u001b[39mrand(\u001b[38;5;241m1\u001b[39m) \u001b[38;5;241m<\u001b[39m epsilon \u001b[38;5;129;01mand\u001b[39;00m random:\n\u001b[1;32m      3\u001b[0m     \u001b[38;5;28;01mreturn\u001b[39;00m torch\u001b[38;5;241m.\u001b[39mrandint(n_actions, (\u001b[38;5;241m1\u001b[39m,))\u001b[38;5;241m.\u001b[39mitem()\n\u001b[0;32m----> 4\u001b[0m qvals \u001b[38;5;241m=\u001b[39m \u001b[43mmodel\u001b[49m\u001b[43m(\u001b[49m\u001b[43mstate\u001b[49m\u001b[43m)\u001b[49m\n\u001b[1;32m      5\u001b[0m \u001b[38;5;28;01mreturn\u001b[39;00m torch\u001b[38;5;241m.\u001b[39margmax(qvals)\u001b[38;5;241m.\u001b[39mitem()\n",
      "File \u001b[0;32m~/anaconda3/envs/lunar_lander/lib/python3.12/site-packages/torch/nn/modules/module.py:1511\u001b[0m, in \u001b[0;36mModule._wrapped_call_impl\u001b[0;34m(self, *args, **kwargs)\u001b[0m\n\u001b[1;32m   1509\u001b[0m     \u001b[38;5;28;01mreturn\u001b[39;00m \u001b[38;5;28mself\u001b[39m\u001b[38;5;241m.\u001b[39m_compiled_call_impl(\u001b[38;5;241m*\u001b[39margs, \u001b[38;5;241m*\u001b[39m\u001b[38;5;241m*\u001b[39mkwargs)  \u001b[38;5;66;03m# type: ignore[misc]\u001b[39;00m\n\u001b[1;32m   1510\u001b[0m \u001b[38;5;28;01melse\u001b[39;00m:\n\u001b[0;32m-> 1511\u001b[0m     \u001b[38;5;28;01mreturn\u001b[39;00m \u001b[38;5;28;43mself\u001b[39;49m\u001b[38;5;241;43m.\u001b[39;49m\u001b[43m_call_impl\u001b[49m\u001b[43m(\u001b[49m\u001b[38;5;241;43m*\u001b[39;49m\u001b[43margs\u001b[49m\u001b[43m,\u001b[49m\u001b[43m \u001b[49m\u001b[38;5;241;43m*\u001b[39;49m\u001b[38;5;241;43m*\u001b[39;49m\u001b[43mkwargs\u001b[49m\u001b[43m)\u001b[49m\n",
      "File \u001b[0;32m~/anaconda3/envs/lunar_lander/lib/python3.12/site-packages/torch/nn/modules/module.py:1520\u001b[0m, in \u001b[0;36mModule._call_impl\u001b[0;34m(self, *args, **kwargs)\u001b[0m\n\u001b[1;32m   1515\u001b[0m \u001b[38;5;66;03m# If we don't have any hooks, we want to skip the rest of the logic in\u001b[39;00m\n\u001b[1;32m   1516\u001b[0m \u001b[38;5;66;03m# this function, and just call forward.\u001b[39;00m\n\u001b[1;32m   1517\u001b[0m \u001b[38;5;28;01mif\u001b[39;00m \u001b[38;5;129;01mnot\u001b[39;00m (\u001b[38;5;28mself\u001b[39m\u001b[38;5;241m.\u001b[39m_backward_hooks \u001b[38;5;129;01mor\u001b[39;00m \u001b[38;5;28mself\u001b[39m\u001b[38;5;241m.\u001b[39m_backward_pre_hooks \u001b[38;5;129;01mor\u001b[39;00m \u001b[38;5;28mself\u001b[39m\u001b[38;5;241m.\u001b[39m_forward_hooks \u001b[38;5;129;01mor\u001b[39;00m \u001b[38;5;28mself\u001b[39m\u001b[38;5;241m.\u001b[39m_forward_pre_hooks\n\u001b[1;32m   1518\u001b[0m         \u001b[38;5;129;01mor\u001b[39;00m _global_backward_pre_hooks \u001b[38;5;129;01mor\u001b[39;00m _global_backward_hooks\n\u001b[1;32m   1519\u001b[0m         \u001b[38;5;129;01mor\u001b[39;00m _global_forward_hooks \u001b[38;5;129;01mor\u001b[39;00m _global_forward_pre_hooks):\n\u001b[0;32m-> 1520\u001b[0m     \u001b[38;5;28;01mreturn\u001b[39;00m \u001b[43mforward_call\u001b[49m\u001b[43m(\u001b[49m\u001b[38;5;241;43m*\u001b[39;49m\u001b[43margs\u001b[49m\u001b[43m,\u001b[49m\u001b[43m \u001b[49m\u001b[38;5;241;43m*\u001b[39;49m\u001b[38;5;241;43m*\u001b[39;49m\u001b[43mkwargs\u001b[49m\u001b[43m)\u001b[49m\n\u001b[1;32m   1522\u001b[0m \u001b[38;5;28;01mtry\u001b[39;00m:\n\u001b[1;32m   1523\u001b[0m     result \u001b[38;5;241m=\u001b[39m \u001b[38;5;28;01mNone\u001b[39;00m\n",
      "Cell \u001b[0;32mIn[9], line 23\u001b[0m, in \u001b[0;36mQnet.forward\u001b[0;34m(self, x)\u001b[0m\n\u001b[1;32m     22\u001b[0m \u001b[38;5;28;01mdef\u001b[39;00m \u001b[38;5;21mforward\u001b[39m(\u001b[38;5;28mself\u001b[39m, x: \u001b[38;5;28mint\u001b[39m):\n\u001b[0;32m---> 23\u001b[0m     x \u001b[38;5;241m=\u001b[39m \u001b[43mnormalize_state\u001b[49m\u001b[43m(\u001b[49m\u001b[43mx\u001b[49m\u001b[43m)\u001b[49m\n\u001b[1;32m     24\u001b[0m     x \u001b[38;5;241m=\u001b[39m \u001b[38;5;28mself\u001b[39m\u001b[38;5;241m.\u001b[39mmodel(x)\n\u001b[1;32m     25\u001b[0m     \u001b[38;5;28;01mreturn\u001b[39;00m x\n",
      "Cell \u001b[0;32mIn[8], line 9\u001b[0m, in \u001b[0;36mnormalize_state\u001b[0;34m(state)\u001b[0m\n\u001b[1;32m      8\u001b[0m \u001b[38;5;28;01mdef\u001b[39;00m \u001b[38;5;21mnormalize_state\u001b[39m(state) \u001b[38;5;241m-\u001b[39m\u001b[38;5;241m>\u001b[39m torch\u001b[38;5;241m.\u001b[39mTensor:\n\u001b[0;32m----> 9\u001b[0m     \u001b[38;5;28;01mreturn\u001b[39;00m \u001b[43mtorch\u001b[49m\u001b[38;5;241;43m.\u001b[39;49m\u001b[43mdiv\u001b[49m\u001b[43m(\u001b[49m\u001b[43m(\u001b[49m\u001b[43mstate\u001b[49m\u001b[43m \u001b[49m\u001b[38;5;241;43m-\u001b[39;49m\u001b[43m \u001b[49m\u001b[43mlow\u001b[49m\u001b[43m)\u001b[49m\u001b[43m,\u001b[49m\u001b[43m  \u001b[49m\u001b[43m(\u001b[49m\u001b[43mhigh\u001b[49m\u001b[43m \u001b[49m\u001b[38;5;241;43m-\u001b[39;49m\u001b[43m \u001b[49m\u001b[43mlow\u001b[49m\u001b[43m)\u001b[49m\u001b[43m)\u001b[49m\u001b[38;5;241m.\u001b[39mfloat()\n",
      "\u001b[0;31mTypeError\u001b[0m: div(): argument 'input' (position 1) must be Tensor, not numpy.ndarray"
     ]
    }
   ],
   "source": [
    "lunar_lander = gym.make('LunarLander-v2')\n",
    "q_net = Qnet(layer_sizes=[128, 128])\n",
    "debug_model = deepcopy(q_net)\n",
    "trained_q_net = train(lunar_lander, q_net, n_episodes=5000, learning_rate=1e-5, verbose=True)"
   ]
  },
  {
   "cell_type": "markdown",
   "metadata": {},
   "source": [
    "## Testando o agente\n",
    "\n",
    "A função abaixo rodará um episódio com o agente já treinado."
   ]
  },
  {
   "cell_type": "code",
   "execution_count": null,
   "metadata": {},
   "outputs": [],
   "source": [
    "def test(env: gym.Env, \n",
    "          q_net,\n",
    "          n_episodes=1,\n",
    "          verbose=False\n",
    "          ):\n",
    "    \n",
    "    total_rewards = []\n",
    "    for episode in range(n_episodes):\n",
    "        state, _ = env.reset()\n",
    "        total_reward = 0\n",
    "        done = False\n",
    "        \n",
    "        while not done:\n",
    "            action = get_action(q_net, state, 0)\n",
    "            state, reward, terminated, truncated, _ = env.step(action)\n",
    "            total_reward += reward\n",
    "\n",
    "            done = terminated or truncated\n",
    "\n",
    "        if verbose:\n",
    "            print(f\"Episode {episode} - Total reward: {total_reward}\")\n",
    "            \n",
    "        total_rewards.append(total_reward)\n",
    "\n",
    "    env.close()\n",
    "    return torch.mean(total_reward)\n",
    "\n",
    "#test(gym.make('CliffWalking-v0', render_mode=\"human\"), trained_q_net)"
   ]
  },
  {
   "cell_type": "markdown",
   "metadata": {},
   "source": [
    "## Análise de resultados\n",
    "\n",
    "### Visualizando a política\n",
    "\n",
    "A célula abaixo permitirá observar a ação mais provável de ser tomada em cada uma das posições do tabuleiro."
   ]
  },
  {
   "cell_type": "code",
   "execution_count": null,
   "metadata": {},
   "outputs": [
    {
     "data": {
      "image/png": "[encoded data removed]",
      "text/plain": [
       "<Figure size 640x480 with 1 Axes>"
      ]
     },
     "metadata": {},
     "output_type": "display_data"
    }
   ],
   "source": [
    "reload(plots)\n",
    "plots.plot_arrows_from_qnet(debug_model)"
   ]
  },
  {
   "cell_type": "code",
   "execution_count": null,
   "metadata": {},
   "outputs": [
    {
     "name": "stdout",
     "output_type": "stream",
     "text": [
      "state 0: [-99.32302 -99.32125 -99.32189 -99.39064]\n",
      "state 1: [-99.37512  -99.38653  -99.397316 -99.32632 ]\n",
      "state 2: [-99.42722 -99.45182 -99.47275 -99.262  ]\n",
      "state 3: [-99.479324 -99.517105 -99.54818  -99.19767 ]\n",
      "state 4: [-99.531425 -99.58239  -99.62361  -99.13336 ]\n",
      "state 5: [-99.58353  -99.64768  -99.69904  -99.069046]\n",
      "state 6: [-99.63563  -99.712975 -99.77447  -99.00472 ]\n",
      "state 7: [-99.68773 -99.77827 -99.8499  -98.9404 ]\n",
      "state 8: [-99.73983  -99.843544 -99.92533  -98.87608 ]\n",
      "state 9: [ -99.79193   -99.90884  -100.00076   -98.811775]\n",
      "state 10: [ -99.844025  -99.97412  -100.07619   -98.747444]\n",
      "state 11: [ -99.896126 -100.03941  -100.15163   -98.68313 ]\n",
      "state 12: [ -99.34171  -101.59196   -99.90222   -99.441574]\n",
      "state 13: [ -99.39381 -101.65725  -99.97765  -99.37725]\n",
      "state 14: [ -99.4459   -101.722534 -100.05308   -99.312935]\n",
      "state 15: [ -99.498   -101.78782 -100.12851  -99.24861]\n",
      "state 16: [ -99.55011  -101.85311  -100.20393   -99.184296]\n",
      "state 17: [ -99.60221  -101.918396 -100.27936   -99.11998 ]\n",
      "state 18: [ -99.65431  -101.983696 -100.3548    -99.05566 ]\n",
      "state 19: [ -99.70641 -102.04897 -100.43023  -98.99134]\n",
      "state 20: [ -99.75851 -102.11426 -100.50566  -98.92702]\n",
      "state 21: [ -99.81061  -102.17956  -100.581085  -98.8627  ]\n",
      "state 22: [ -99.86272  -102.244835 -100.65652   -98.798386]\n",
      "state 23: [ -99.91482 -102.31013 -100.73194  -98.73407]\n",
      "state 24: [ -99.3604   -103.86267  -100.482544  -99.492516]\n",
      "state 25: [ -99.412506 -103.92795  -100.55798   -99.42819 ]\n",
      "state 26: [ -99.46461 -103.99325 -100.63341  -99.36387]\n",
      "state 27: [ -99.5167  -104.05853 -100.70883  -99.29955]\n",
      "state 28: [ -99.5688  -104.12383 -100.78426  -99.23523]\n",
      "state 29: [ -99.620895 -104.18911  -100.85969   -99.17091 ]\n",
      "state 30: [ -99.673    -104.254395 -100.93512   -99.10659 ]\n",
      "state 31: [ -99.72509  -104.319695 -101.01056   -99.042274]\n",
      "state 32: [ -99.77719  -104.384964 -101.085976  -98.97795 ]\n",
      "state 33: [ -99.82929  -104.450264 -101.16141   -98.91363 ]\n",
      "state 34: [ -99.93114 -104.5434  -101.28825  -98.90704]\n",
      "state 35: [-100.20399 -104.73222 -101.59181  -99.09897]\n",
      "state 36: [ -99.37909  -106.13338  -101.062874  -99.54344 ]\n",
      "state 37: [ -99.43118  -106.19866  -101.1383    -99.479126]\n",
      "state 38: [ -99.483284 -106.26395  -101.21373   -99.4148  ]\n",
      "state 39: [ -99.535416 -106.329216 -101.289116  -99.35054 ]\n",
      "state 40: [ -99.58781 -106.39426 -101.36395  -99.28673]\n",
      "state 41: [ -99.64019 -106.4593  -101.43882  -99.22292]\n",
      "state 42: [ -99.69258  -106.52434  -101.513664  -99.1591  ]\n",
      "state 43: [ -99.85878  -106.65307  -101.70614   -99.227394]\n",
      "state 44: [-100.13191 -106.84167 -102.00914  -99.4198 ]\n",
      "state 45: [-100.405045 -107.03025  -102.312126  -99.61221 ]\n",
      "state 46: [-100.67817 -107.21883 -102.61512  -99.80463]\n",
      "state 47: [-100.951294 -107.40743  -102.91811   -99.99704 ]\n"
     ]
    }
   ],
   "source": [
    "for state in range(48):\n",
    "    print(f'state {state}: {debug_model(state).detach().numpy()}')"
   ]
  },
  {
   "cell_type": "markdown",
   "metadata": {},
   "source": [
    "### Visualizando a influência da taxa de aprendizado\n",
    "\n",
    "A célula abaixo criará um gráfico com a recompensa total média de um conjunto de agentes treinados com uma diferente taxa de aprendizado. Como você explicaria os resultados?"
   ]
  },
  {
   "cell_type": "code",
   "execution_count": null,
   "metadata": {},
   "outputs": [
    {
     "ename": "NameError",
     "evalue": "name 'np' is not defined",
     "output_type": "error",
     "traceback": [
      "\u001b[0;31m---------------------------------------------------------------------------\u001b[0m",
      "\u001b[0;31mNameError\u001b[0m                                 Traceback (most recent call last)",
      "Cell \u001b[0;32mIn[33], line 16\u001b[0m\n\u001b[1;32m     13\u001b[0m     plt\u001b[38;5;241m.\u001b[39mgrid()\n\u001b[1;32m     14\u001b[0m     plt\u001b[38;5;241m.\u001b[39mshow()\n\u001b[0;32m---> 16\u001b[0m \u001b[43mplot_avg_return_x_alpha\u001b[49m\u001b[43m(\u001b[49m\u001b[43mn_samples\u001b[49m\u001b[38;5;241;43m=\u001b[39;49m\u001b[38;5;241;43m100\u001b[39;49m\u001b[43m,\u001b[49m\u001b[43m \u001b[49m\u001b[43mn_alphas\u001b[49m\u001b[38;5;241;43m=\u001b[39;49m\u001b[38;5;241;43m10\u001b[39;49m\u001b[43m)\u001b[49m\n",
      "Cell \u001b[0;32mIn[33], line 5\u001b[0m, in \u001b[0;36mplot_avg_return_x_alpha\u001b[0;34m(n_samples, n_alphas)\u001b[0m\n\u001b[1;32m      3\u001b[0m \u001b[38;5;28;01mdef\u001b[39;00m \u001b[38;5;21mplot_avg_return_x_alpha\u001b[39m(n_samples\u001b[38;5;241m=\u001b[39m\u001b[38;5;241m100\u001b[39m, n_alphas\u001b[38;5;241m=\u001b[39m\u001b[38;5;241m10\u001b[39m ):\n\u001b[1;32m      4\u001b[0m     avg_returns \u001b[38;5;241m=\u001b[39m []\n\u001b[0;32m----> 5\u001b[0m     alphas\u001b[38;5;241m=\u001b[39m\u001b[43mnp\u001b[49m\u001b[38;5;241m.\u001b[39mlinspace(\u001b[38;5;241m0.1\u001b[39m, \u001b[38;5;241m1\u001b[39m, n_alphas)\n\u001b[1;32m      7\u001b[0m     \u001b[38;5;28;01mfor\u001b[39;00m alpha \u001b[38;5;129;01min\u001b[39;00m alphas:\n\u001b[1;32m      8\u001b[0m         q_table \u001b[38;5;241m=\u001b[39m new_q_table(n_states\u001b[38;5;241m=\u001b[39m\u001b[38;5;241m48\u001b[39m, n_actions\u001b[38;5;241m=\u001b[39m\u001b[38;5;241m4\u001b[39m)\n",
      "\u001b[0;31mNameError\u001b[0m: name 'np' is not defined"
     ]
    }
   ],
   "source": [
    "# retorno médio esperado em função de alpha\n",
    "\n",
    "def plot_avg_return_x_alpha(n_samples=100, n_alphas=10 ):\n",
    "    avg_returns = []\n",
    "    alphas=np.linspace(0.1, 1, n_alphas)\n",
    " \n",
    "    for alpha in alphas:\n",
    "        q_table = new_q_table(n_states=48, n_actions=4)\n",
    "        trained_q_table = train(cliff_walking, q_table, alpha=alpha)\n",
    "        avg_returns.append(test(cliff_walking, trained_q_table, n_samples))\n",
    "\n",
    "    plt.plot(alphas, avg_returns)\n",
    "    plt.grid()\n",
    "    plt.show()\n",
    "\n",
    "plot_avg_return_x_alpha(n_samples=100, n_alphas=10)"
   ]
  },
  {
   "cell_type": "markdown",
   "metadata": {},
   "source": [
    "## Exercício - ambientes não-determinísticos\n",
    "\n",
    "Agora que já vimos que o agente aprendeu um caminho para o objetivo que minimiza a distância caminhada e não cai no penhasco, está na hora de deixar as coisas um pouco mais difíceis. Utilizaremos agora uma versão modificada do Cliff Walking que adiciona vento aleatório na direção do penhasco. Ou seja, existe uma probabilidade do agente ser deslocado uma casa para baixo de maneira involuntária.\n",
    "\n",
    "Essa alteração será interessante para observarmos a infuência da taxa de aprendizado no treinamento de um modelo robusto a ambientes não-determinísticos."
   ]
  },
  {
   "cell_type": "code",
   "execution_count": null,
   "metadata": {},
   "outputs": [],
   "source": [
    "windy_cliff_walking = WindyCliffWalking(wind=0.5)\n",
    "\n",
    "windy_q_table = new_q_table(n_states=48, n_actions=4)\n",
    "trained_windy_q_table = train(cliff_walking, windy_q_table, alpha=0.75, verbose=True)"
   ]
  },
  {
   "cell_type": "markdown",
   "metadata": {},
   "source": [
    "### Resultados"
   ]
  },
  {
   "cell_type": "code",
   "execution_count": null,
   "metadata": {},
   "outputs": [],
   "source": [
    "windy_cliff_walking.render_mode = 'human'\n",
    "test(windy_cliff_walking, trained_windy_q_table)"
   ]
  },
  {
   "cell_type": "code",
   "execution_count": null,
   "metadata": {},
   "outputs": [],
   "source": [
    "plots.plot_arrows(trained_q_table)"
   ]
  }
 ],
 "metadata": {
  "kernelspec": {
   "display_name": "lunar_lander",
   "language": "python",
   "name": "python3"
  },
  "language_info": {
   "codemirror_mode": {
    "name": "ipython",
    "version": 3
   },
   "file_extension": ".py",
   "mimetype": "text/x-python",
   "name": "python",
   "nbconvert_exporter": "python",
   "pygments_lexer": "ipython3",
   "version": "3.12.2"
  }
 },
 "nbformat": 4,
 "nbformat_minor": 2
}
